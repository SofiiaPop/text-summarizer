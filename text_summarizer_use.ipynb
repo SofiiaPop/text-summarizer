{
 "cells": [
  {
   "cell_type": "markdown",
   "id": "21bab5f2",
   "metadata": {},
   "source": [
    "## Follow instructions"
   ]
  },
  {
   "cell_type": "markdown",
   "id": "31dcf1b9",
   "metadata": {},
   "source": [
    "Try the implementation:"
   ]
  },
  {
   "cell_type": "code",
   "execution_count": 2,
   "id": "655392e6",
   "metadata": {},
   "outputs": [],
   "source": [
    "from text_summarizer import run_text_summarization"
   ]
  },
  {
   "cell_type": "code",
   "execution_count": 4,
   "id": "cf180c28",
   "metadata": {},
   "outputs": [
    {
     "data": {
      "text/plain": [
       "'Your text goes here.\\nIt can be a long paragraph or multiple sentences.\\nThe summarizer will condense it into a shorter version while retaining the main ideas and context.\\n'"
      ]
     },
     "execution_count": 4,
     "metadata": {},
     "output_type": "execute_result"
    }
   ],
   "source": [
    "test = \"Your text goes here. It can be a long paragraph or multiple sentences. The summarizer will condense it into a shorter version while retaining the main ideas and context.\"\n",
    "number_of_sentences = 3 # Specify the number of sentences you want in the summary\n",
    "\n",
    "run_text_summarization(text=test, sentences_count=number_of_sentences)\n",
    "# You can also specify the output file name parameter if needed.\n",
    "run_text_summarization(text=test, sentences_count=number_of_sentences, output_file=\"summary.txt\")"
   ]
  }
 ],
 "metadata": {
  "kernelspec": {
   "display_name": "Python 3",
   "language": "python",
   "name": "python3"
  },
  "language_info": {
   "codemirror_mode": {
    "name": "ipython",
    "version": 3
   },
   "file_extension": ".py",
   "mimetype": "text/x-python",
   "name": "python",
   "nbconvert_exporter": "python",
   "pygments_lexer": "ipython3",
   "version": "3.11.5"
  }
 },
 "nbformat": 4,
 "nbformat_minor": 5
}
